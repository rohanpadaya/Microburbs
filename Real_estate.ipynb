{
 "cells": [
  {
   "cell_type": "code",
   "execution_count": 3,
   "id": "83c93208-2939-4e97-8745-995801b252a9",
   "metadata": {},
   "outputs": [
    {
     "name": "stdout",
     "output_type": "stream",
     "text": [
      "Westpac: 4 year forecast APE         30.272449\n",
      "Harry Spent: 5 year forecast APE     75.693820\n",
      "Joe Bloggs: 2 year forecast APE     155.253210\n",
      "dtype: float64\n"
     ]
    }
   ],
   "source": [
    "import pandas as pd\n",
    "import re  # Import the re module for regular expressions\n",
    "\n",
    "# Load the CSV file\n",
    "file_path = '/Users/rohanpadaya/Downloads/forecast_history.csv'\n",
    "df = pd.read_csv(file_path)\n",
    "\n",
    "# Rename the unnamed column to 'Year'\n",
    "df.rename(columns={'Unnamed: 0': 'Year'}, inplace=True)\n",
    "\n",
    "# Remove any leading/trailing spaces in column names\n",
    "df.columns = df.columns.str.strip()\n",
    "\n",
    "# Function to clean numeric values, removing non-numeric characters\n",
    "def clean_numeric(value):\n",
    "    if isinstance(value, str):\n",
    "        value = re.sub(r'[^0-9.-]', '', value)\n",
    "        return float(value) if value else None\n",
    "    return value\n",
    "\n",
    "# Apply the cleaning function to the 'Median house price' column\n",
    "df['Median house price'] = df['Median house price'].apply(clean_numeric)\n",
    "\n",
    "# Apply the cleaning function to the forecast columns\n",
    "for col in df.columns[2:]:\n",
    "    df[col] = df[col].apply(clean_numeric)\n",
    "\n",
    "# Calculate the actual percentage change in median house price year over year\n",
    "df['Actual Change (%)'] = df['Median house price'].pct_change() * 100\n",
    "\n",
    "# Calculate the Absolute Percentage Error (APE) for each forecaster\n",
    "for col in df.columns[2:-1]:\n",
    "    df[f'{col} APE'] = abs(df['Actual Change (%)'] - df[col])\n",
    "\n",
    "# Drop the first row as it has NaN due to pct_change calculation\n",
    "df = df.dropna()\n",
    "\n",
    "# Calculate the Mean Absolute Percentage Error (MAPE) for each forecaster\n",
    "mape_results = df[[col for col in df.columns if 'APE' in col]].mean().sort_values()\n",
    "\n",
    "# Display the MAPE results\n",
    "print(mape_results)\n"
   ]
  }
 ],
 "metadata": {
  "kernelspec": {
   "display_name": "Python 3 (ipykernel)",
   "language": "python",
   "name": "python3"
  },
  "language_info": {
   "codemirror_mode": {
    "name": "ipython",
    "version": 3
   },
   "file_extension": ".py",
   "mimetype": "text/x-python",
   "name": "python",
   "nbconvert_exporter": "python",
   "pygments_lexer": "ipython3",
   "version": "3.11.7"
  }
 },
 "nbformat": 4,
 "nbformat_minor": 5
}
